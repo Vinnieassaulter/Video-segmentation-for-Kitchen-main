{
 "cells": [
  {
   "cell_type": "code",
   "execution_count": 1,
   "metadata": {},
   "outputs": [
    {
     "name": "stderr",
     "output_type": "stream",
     "text": [
      "/home/qiyang/anaconda3/envs/kosmos-2/lib/python3.9/site-packages/tqdm/auto.py:21: TqdmWarning: IProgress not found. Please update jupyter and ipywidgets. See https://ipywidgets.readthedocs.io/en/stable/user_install.html\n",
      "  from .autonotebook import tqdm as notebook_tqdm\n"
     ]
    }
   ],
   "source": [
    "import requests\n",
    "\n",
    "from PIL import Image\n",
    "from transformers import AutoProcessor, AutoModelForVision2Seq\n",
    "\n",
    "\n",
    "model = AutoModelForVision2Seq.from_pretrained(\"ydshieh/kosmos-2-patch14-224\", trust_remote_code=True)\n",
    "processor = AutoProcessor.from_pretrained(\"ydshieh/kosmos-2-patch14-224\", trust_remote_code=True)\n",
    "\n",
    "# url = \"https://huggingface.co/ydshieh/kosmos-2-patch14-224/resolve/main/snowman.png\"\n",
    "# image = Image.open(requests.get(url, stream=True).raw)\n",
    "path = \"/media/data/qiyang/data/OH0037_2023_05_10_15_17_17/frames/Aoutput0_cut/frame_0.jpg\"\n",
    "image = Image.open(path)\n",
    "\n",
    "def run_example(prompt):\n",
    "\n",
    "    inputs = processor(text=prompt, images=image, return_tensors=\"pt\")\n",
    "    generated_ids = model.generate(\n",
    "        pixel_values=inputs[\"pixel_values\"],\n",
    "        input_ids=inputs[\"input_ids\"][:, :-1],\n",
    "        attention_mask=inputs[\"attention_mask\"][:, :-1],\n",
    "        img_features=None,\n",
    "        img_attn_mask=inputs[\"img_attn_mask\"][:, :-1],\n",
    "        use_cache=True,\n",
    "        max_new_tokens=64,\n",
    "    )\n",
    "    generated_text = processor.batch_decode(generated_ids, skip_special_tokens=True)[0]\n",
    "    _processed_text = processor.post_process_generation(generated_text, cleanup_and_extract=False)\n",
    "    processed_text, entities = processor.post_process_generation(generated_text)\n",
    "    print(processed_text)\n",
    "    print(entities)\n",
    "    print(_processed_text)\n"
   ]
  },
  {
   "attachments": {},
   "cell_type": "markdown",
   "metadata": {},
   "source": [
    "## Phase Grounding"
   ]
  },
  {
   "cell_type": "code",
   "execution_count": 2,
   "metadata": {},
   "outputs": [
    {
     "name": "stdout",
     "output_type": "stream",
     "text": [
      "a man plays chess on a table with a built-in chessboard\n",
      "[('a man', (0, 5), [(0.296875, 0.015625, 0.515625, 0.421875)]), ('chess', (12, 17), [(0.453125, 0.203125, 0.765625, 0.515625)]), ('a table', (21, 28), [(0.203125, 0.171875, 0.546875, 0.828125)]), ('a built-in chessboard', (34, 55), [(0.234375, 0.578125, 0.703125, 0.984375)])]\n",
      "<grounding><phrase> a man</phrase><object><patch_index_0009><patch_index_0432></object> plays<phrase> chess</phrase><object><patch_index_0206><patch_index_0536></object> on<phrase> a table</phrase><object><patch_index_0166><patch_index_0849></object> with<phrase> a built-in chessboard</phrase><object><patch_index_0583><patch_index_1014></object>\n"
     ]
    }
   ],
   "source": [
    "prompt = \"<grounding><phrase> a man</phrase>\"\n",
    "run_example(prompt)\n",
    "\n",
    "# a snowman is warming himself by the fire\n",
    "# [('a snowman', (0, 9), [(0.390625, 0.046875, 0.984375, 0.828125)]), ('the fire', (32, 40), [(0.203125, 0.015625, 0.453125, 0.859375)])]\n",
    "\n",
    "# <grounding><phrase> a snowman</phrase><object><patch_index_0044><patch_index_0863></object> is warming himself by<phrase> the fire</phrase><object><patch_index_0006><patch_index_0878></object>\n"
   ]
  },
  {
   "attachments": {},
   "cell_type": "markdown",
   "metadata": {},
   "source": [
    "### Referring Expression Comprehension "
   ]
  },
  {
   "cell_type": "code",
   "execution_count": 3,
   "metadata": {},
   "outputs": [
    {
     "name": "stdout",
     "output_type": "stream",
     "text": [
      "a man next to a table plays a game of chess\n",
      "[('a man next to a table', (0, 21), [(0.296875, 0.015625, 0.515625, 0.421875)]), ('a game of chess', (28, 43), [(0.453125, 0.203125, 0.765625, 0.515625)])]\n",
      "<grounding><phrase> a man next to a table</phrase><object><patch_index_0009><patch_index_0432></object> plays<phrase> a game of chess</phrase><object><patch_index_0206><patch_index_0536></object>\n"
     ]
    }
   ],
   "source": [
    "prompt = \"<grounding><phrase> a man next to a table</phrase>\"\n",
    "run_example(prompt)\n",
    "\n",
    "# a snowman next to a fire\n",
    "# [('a snowman next to a fire', (0, 24), [(0.390625, 0.046875, 0.984375, 0.828125)])]\n",
    "\n",
    "# <grounding><phrase> a snowman next to a fire</phrase><object><patch_index_0044><patch_index_0863></object>\n"
   ]
  },
  {
   "attachments": {},
   "cell_type": "markdown",
   "metadata": {},
   "source": [
    "### Grounded Image captioning "
   ]
  },
  {
   "attachments": {},
   "cell_type": "markdown",
   "metadata": {},
   "source": [
    "Brief"
   ]
  },
  {
   "cell_type": "code",
   "execution_count": 4,
   "metadata": {},
   "outputs": [
    {
     "name": "stdout",
     "output_type": "stream",
     "text": [
      "An image of a man playing a chess game on a table.\n",
      "[('a man', (12, 17), [(0.296875, 0.015625, 0.515625, 0.421875)]), ('a chess game', (26, 38), [(0.453125, 0.203125, 0.765625, 0.515625)]), ('a table', (42, 49), [(0.203125, 0.171875, 0.546875, 0.828125)])]\n",
      "<grounding> An image of<phrase> a man</phrase><object><patch_index_0009><patch_index_0432></object> playing<phrase> a chess game</phrase><object><patch_index_0206><patch_index_0536></object> on<phrase> a table</phrase><object><patch_index_0166><patch_index_0849></object>.\n"
     ]
    }
   ],
   "source": [
    "prompt = \"<grounding> An image of\"\n",
    "run_example(prompt)\n",
    "\n",
    "# An image of a snowman warming himself by a campfire.\n",
    "# [('a snowman', (12, 21), [(0.390625, 0.046875, 0.984375, 0.828125)]), ('a campfire', (41, 51), [(0.109375, 0.640625, 0.546875, 0.984375)])]\n",
    "\n",
    "# <grounding> An image of<phrase> a snowman</phrase><object><patch_index_0044><patch_index_0863></object> warming himself by<phrase> a campfire</phrase><object><patch_index_0643><patch_index_1009></object>.\n"
   ]
  },
  {
   "attachments": {},
   "cell_type": "markdown",
   "metadata": {},
   "source": [
    "Detailed "
   ]
  },
  {
   "cell_type": "code",
   "execution_count": 5,
   "metadata": {},
   "outputs": [
    {
     "name": "stdout",
     "output_type": "stream",
     "text": [
      "Describe this image in detail: A man is standing in a kitchen, holding a chess board. He is looking down at a white and black chessboard on a table.\n",
      "[('A man', (31, 36), [(0.296875, 0.015625, 0.515625, 0.421875)]), ('a chess board', (71, 84), [(0.453125, 0.203125, 0.765625, 0.515625)]), ('a white and black chessboard on a table', (108, 147), [(0.234375, 0.578125, 0.703125, 0.984375)])]\n",
      "<grounding> Describe this image in detail:<phrase> A man</phrase><object><patch_index_0009><patch_index_0432></object> is standing in a kitchen, holding<phrase> a chess board</phrase><object><patch_index_0206><patch_index_0536></object>. He is looking down at<phrase> a white and black chessboard on a table</phrase><object><patch_index_0583><patch_index_1014></object>.\n"
     ]
    }
   ],
   "source": [
    "prompt = \"<grounding> Describe this image in detail:\"\n",
    "run_example(prompt)\n",
    "\n",
    "# Describe this image in detail: The image features a snowman sitting by a campfire in the snow. He is wearing a hat, scarf, and gloves, with a pot nearby and a cup\n",
    "# [('a campfire', (71, 81), [(0.171875, 0.015625, 0.484375, 0.984375)]), ('a hat', (109, 114), [(0.515625, 0.046875, 0.828125, 0.234375)]), ('scarf', (116, 121), [(0.515625, 0.234375, 0.890625, 0.578125)]), ('gloves', (127, 133), [(0.515625, 0.390625, 0.640625, 0.515625)]), ('a pot', (140, 145), [(0.078125, 0.609375, 0.265625, 0.859375)])]\n",
    "\n",
    "# <grounding> Describe this image in detail: The image features a snowman sitting by<phrase> a campfire</phrase><object><patch_index_0005><patch_index_1007></object> in the snow. He is wearing<phrase> a hat</phrase><object><patch_index_0048><patch_index_0250></object>,<phrase> scarf</phrase><object><patch_index_0240><patch_index_0604></object>, and<phrase> gloves</phrase><object><patch_index_0400><patch_index_0532></object>, with<phrase> a pot</phrase><object><patch_index_0610><patch_index_0872></object> nearby and<phrase> a cup</phrase><object>\n"
   ]
  }
 ],
 "metadata": {
  "kernelspec": {
   "display_name": "kosmos-2",
   "language": "python",
   "name": "python3"
  },
  "language_info": {
   "codemirror_mode": {
    "name": "ipython",
    "version": 3
   },
   "file_extension": ".py",
   "mimetype": "text/x-python",
   "name": "python",
   "nbconvert_exporter": "python",
   "pygments_lexer": "ipython3",
   "version": "3.9.18"
  },
  "orig_nbformat": 4
 },
 "nbformat": 4,
 "nbformat_minor": 2
}
