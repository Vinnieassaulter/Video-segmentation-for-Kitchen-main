{
 "cells": [
  {
   "cell_type": "code",
   "execution_count": 1,
   "metadata": {},
   "outputs": [],
   "source": [
    "import nltk\n",
    "from nltk import pos_tag\n",
    "from nltk.chunk import ne_chunk\n",
    "from nltk.tree import Tree\n",
    "from sklearn.feature_extraction.text import TfidfVectorizer\n",
    "from sklearn.cluster import KMeans,DBSCAN\n",
    "from sklearn.preprocessing import StandardScaler\n",
    "\n",
    "import pandas as pd"
   ]
  },
  {
   "cell_type": "code",
   "execution_count": 2,
   "metadata": {},
   "outputs": [],
   "source": [
    "# nltk.download()"
   ]
  },
  {
   "cell_type": "code",
   "execution_count": 3,
   "metadata": {},
   "outputs": [
    {
     "data": {
      "text/plain": [
       "frame                                                   8400\n",
       "caption    An image of a man cutting a tomato with a knif...\n",
       "Name: 140, dtype: object"
      ]
     },
     "execution_count": 3,
     "metadata": {},
     "output_type": "execute_result"
    }
   ],
   "source": [
    "df = pd.read_csv(\"data/Aoutput0_cut.csv\")\n",
    "df.iloc[140]"
   ]
  },
  {
   "cell_type": "code",
   "execution_count": 4,
   "metadata": {},
   "outputs": [
    {
     "data": {
      "text/plain": [
       "[('An', 'DT'),\n",
       " ('image', 'NN'),\n",
       " ('of', 'IN'),\n",
       " ('a', 'DT'),\n",
       " ('man', 'NN'),\n",
       " ('cutting', 'VBG'),\n",
       " ('a', 'DT'),\n",
       " ('tomato', 'NN'),\n",
       " ('with', 'IN'),\n",
       " ('a', 'DT'),\n",
       " ('knife', 'NN'),\n",
       " ('on', 'IN'),\n",
       " ('a', 'DT'),\n",
       " ('kitchen', 'NN'),\n",
       " ('counter', 'NN'),\n",
       " ('.', '.')]"
      ]
     },
     "execution_count": 4,
     "metadata": {},
     "output_type": "execute_result"
    }
   ],
   "source": [
    "captions = df[\"caption\"]\n",
    "# tokens = nltk.word_tokenize(captions[0])\n",
    "tokens = [nltk.word_tokenize(caption) for caption in captions]\n",
    "tagged_tokens = [nltk.pos_tag(token) for token in tokens]\n",
    "tagged_tokens[140]"
   ]
  },
  {
   "cell_type": "code",
   "execution_count": 5,
   "metadata": {},
   "outputs": [],
   "source": [
    "df['tagged_tokens'] = tagged_tokens"
   ]
  },
  {
   "cell_type": "code",
   "execution_count": 6,
   "metadata": {},
   "outputs": [],
   "source": [
    "def extract_SVO(tagged_token):\n",
    "    subject = \"\"\n",
    "    verb = \"\"\n",
    "    obj = \"\"\n",
    "\n",
    "    grammar = \"SOV: {<DT>?<JJ>?<N.*><V.*><IN>?<DT>?<JJ>?<N.*>}\"\n",
    "    cp = nltk.RegexpParser(grammar)\n",
    "    tree = cp.parse(tagged_token)\n",
    "    for subtree in tree.subtrees():\n",
    "        if subtree.label() == \"SOV\":\n",
    "            for leaf in subtree.leaves():\n",
    "                if ('NN' in leaf[1] and subject==''):\n",
    "                    subject = leaf[0]\n",
    "                if 'VB' in leaf[1]:\n",
    "                    verb = leaf[0]\n",
    "                if ('NN' in leaf[1]):\n",
    "                    obj = leaf[0]\n",
    "    return subject, verb, obj"
   ]
  },
  {
   "cell_type": "code",
   "execution_count": 7,
   "metadata": {},
   "outputs": [],
   "source": [
    "def extract_NV(tagged_token):\n",
    "    words = []\n",
    "\n",
    "    for tag in tagged_token:\n",
    "        if ('NN' in tag[1]):\n",
    "            words.append(tag[0])\n",
    "        if 'VB' in tag[1]:\n",
    "            words.append(tag[0])\n",
    "    return words[1:]"
   ]
  },
  {
   "cell_type": "code",
   "execution_count": 41,
   "metadata": {},
   "outputs": [
    {
     "data": {
      "text/plain": [
       "frame                                                         8400\n",
       "caption          An image of a man cutting a tomato with a knif...\n",
       "tagged_tokens    [(An, DT), (image, NN), (of, IN), (a, DT), (ma...\n",
       "vos                                              (cutting, tomato)\n",
       "label                                                            4\n",
       "v                                                          cutting\n",
       "o                                                           tomato\n",
       "Name: 140, dtype: object"
      ]
     },
     "execution_count": 41,
     "metadata": {},
     "output_type": "execute_result"
    }
   ],
   "source": [
    "import numpy as np\n",
    "\n",
    "svos = np.array([extract_SVO(tagged_token) for tagged_token in tagged_tokens])\n",
    "df['vos'] = [tuple(vo) for vo in svos[:,1:]]\n",
    "df['v'] = svos[:,1]\n",
    "df['o'] = svos[:,2]\n",
    "df.iloc[140]"
   ]
  },
  {
   "cell_type": "code",
   "execution_count": 33,
   "metadata": {},
   "outputs": [
    {
     "data": {
      "text/plain": [
       "array(['playing', 'standing', 'stealing', '', 'walking', 'using',\n",
       "       'looking', 'wearing', 'fixing', 'kneeling', 'opening', 'breaking',\n",
       "       'sitting', 'pouring', 'holding', 'putting', 'cutting', 'chopping',\n",
       "       'cleaning', 'cooking', 'preparing', 'bowed', 'clasped', 'dancing',\n",
       "       'tossing'], dtype=object)"
      ]
     },
     "execution_count": 33,
     "metadata": {},
     "output_type": "execute_result"
    }
   ],
   "source": [
    "df['v'].unique()"
   ]
  },
  {
   "cell_type": "code",
   "execution_count": 32,
   "metadata": {},
   "outputs": [
    {
     "data": {
      "text/plain": [
       "array(['game', 'kitchen', 'chessboard', '', 'bottle', 'laptop', 'front',\n",
       "       'reality', 'letter', 'document', 'toy', 'printer', 'lab', 'floor',\n",
       "       'microwave', 'room', 'freezer', 'home', 'table', 'desk', 'package',\n",
       "       'bag', 'plastic', 'condom', 'drawer', 'spray', 'pizza', 'tomato',\n",
       "       'onion', 'pepper', 'tomatoes', 'plate', 'knife', 'peppers',\n",
       "       'vegetables', 'strawberries', 'VR', 'lemon', 'wine', 'apple',\n",
       "       'fruit', 'banana', 'meal', 'cucumber', 'screwdriver', 'salad',\n",
       "       'avocado', 'box', 'potato', 'cake', 'watermelon', 'piece', 'bowl',\n",
       "       'food', 'fridge', 'refrigerator', 'dish'], dtype=object)"
      ]
     },
     "execution_count": 32,
     "metadata": {},
     "output_type": "execute_result"
    }
   ],
   "source": [
    "df['o'].unique()"
   ]
  },
  {
   "cell_type": "code",
   "execution_count": 34,
   "metadata": {},
   "outputs": [],
   "source": [
    "import torch\n",
    "from transformers import BertTokenizer, BertModel\n",
    "\n",
    "# 初始化tokenizer和model\n",
    "tokenizer = BertTokenizer.from_pretrained('bert-base-uncased')\n",
    "model = BertModel.from_pretrained('bert-base-uncased')\n",
    "\n",
    "def get_bert_embeddings(sentences):\n",
    "    # 批量标记化文本并得到相应的输出\n",
    "    inputs = tokenizer(sentences, return_tensors=\"pt\", truncation=True, padding=True, max_length=512)\n",
    "\n",
    "    with torch.no_grad():\n",
    "        output = model(**inputs)\n",
    "    \n",
    "    # 使用BERT模型的最后一层的均值作为句子的嵌入\n",
    "    embeddings = output.last_hidden_state.mean(dim=1).squeeze().numpy()\n",
    "    return embeddings\n",
    "\n",
    "# 示例\n",
    "# sentences = [\"BERT is a great NLP model.\", \"Transformers library makes it easy.\", \"Text embeddings are useful.\"]\n",
    "embeddings = get_bert_embeddings([\" \".join(vo) for vo in df['vos']])\n",
    "# for i, embed in enumerate(embeddings):\n",
    "#     print(f\"Sentence {i + 1} Embedding Shape:\", embed.shape)"
   ]
  },
  {
   "cell_type": "code",
   "execution_count": 53,
   "metadata": {},
   "outputs": [
    {
     "name": "stderr",
     "output_type": "stream",
     "text": [
      "/Users/panqiyang/mambaforge/envs/kosmos/lib/python3.11/site-packages/sklearn/cluster/_kmeans.py:1416: FutureWarning: The default value of `n_init` will change from 10 to 'auto' in 1.4. Set the value of `n_init` explicitly to suppress the warning\n",
      "  super()._check_params_vs_input(X, default_n_init=10)\n"
     ]
    }
   ],
   "source": [
    "# vectorizer = TfidfVectorizer()\n",
    "# X = vectorizer.fit_transform([\" \".join(svo) for svo in svos])\n",
    "# X = StandardScaler().fit_transform(X.toarray())\n",
    "\n",
    "X = embeddings\n",
    "\n",
    "kmeans = KMeans(n_clusters=6)\n",
    "# dbscan = DBSCAN(eps=0.5, min_samples=5)\n",
    "kmeans.fit(X)\n",
    "# labels = dbscan.fit_predict(X)\n",
    "labels = kmeans.labels_\n",
    "df['label'] = labels"
   ]
  },
  {
   "cell_type": "code",
   "execution_count": 43,
   "metadata": {},
   "outputs": [
    {
     "data": {
      "text/plain": [
       "4403.0498046875"
      ]
     },
     "execution_count": 43,
     "metadata": {},
     "output_type": "execute_result"
    }
   ],
   "source": [
    "intertia = kmeans.inertia_\n",
    "intertia"
   ]
  },
  {
   "cell_type": "code",
   "execution_count": 29,
   "metadata": {},
   "outputs": [],
   "source": [
    "# df.head(50)"
   ]
  },
  {
   "cell_type": "code",
   "execution_count": 54,
   "metadata": {},
   "outputs": [
    {
     "data": {
      "image/png": "[encoded data removed]",
      "text/plain": [
       "<Figure size 2000x100 with 1 Axes>"
      ]
     },
     "metadata": {},
     "output_type": "display_data"
    }
   ],
   "source": [
    "import matplotlib.pyplot as plt\n",
    "import numpy as np\n",
    "\n",
    "# 给定的数字列表\n",
    "segments = df[\"label\"]\n",
    "\n",
    "# 获取列表中的唯一值和它们的颜色映射\n",
    "unique_vals = np.unique(segments)\n",
    "colors = plt.cm.viridis(np.linspace(0, 1, len(unique_vals)))\n",
    "color_map = dict(zip(unique_vals, colors))\n",
    "\n",
    "# 为进度条的每一段选择颜色\n",
    "segment_colors = [color_map[val] for val in segments]\n",
    "\n",
    "# 绘制进度条\n",
    "fig, ax = plt.subplots(figsize=(20, 1))\n",
    "ax.axis('on')  # 关闭坐标轴\n",
    "\n",
    "for i, (seg, color) in enumerate(zip(segments, segment_colors)):\n",
    "    ax.fill_between([i, i+1], 0, 1, color=color)\n",
    "\n",
    "# 设置x轴的限制从0开始\n",
    "ax.set_xlim(0, len(segments))\n",
    "\n",
    "# 调整x轴的刻度标签为其30倍\n",
    "locs = ax.get_xticks()  # 获取当前的x轴刻度位置\n",
    "ax.set_xticks(locs)\n",
    "ax.set_xticklabels([int(loc * 60) for loc in locs])\n",
    "\n",
    "plt.show()"
   ]
  },
  {
   "cell_type": "code",
   "execution_count": 62,
   "metadata": {},
   "outputs": [
    {
     "data": {
      "text/plain": [
       "dict_keys(['a'])"
      ]
     },
     "execution_count": 62,
     "metadata": {},
     "output_type": "execute_result"
    }
   ],
   "source": [
    "lab = 0\n",
    "dict = {}\n",
    "\n",
    "for v in df['v'].unique():\n",
    "    if v not in dict.keys():\n",
    "        dict[v] = lab\n",
    "        lab+=1"
   ]
  }
 ],
 "metadata": {
  "kernelspec": {
   "display_name": "Python 3 (ipykernel)",
   "language": "python",
   "name": "python3"
  },
  "language_info": {
   "codemirror_mode": {
    "name": "ipython",
    "version": 3
   },
   "file_extension": ".py",
   "mimetype": "text/x-python",
   "name": "python",
   "nbconvert_exporter": "python",
   "pygments_lexer": "ipython3",
   "version": "3.11.6"
  }
 },
 "nbformat": 4,
 "nbformat_minor": 4
}
