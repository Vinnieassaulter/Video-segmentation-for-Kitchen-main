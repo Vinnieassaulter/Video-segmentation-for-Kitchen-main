{
 "cells": [
  {
   "cell_type": "code",
   "execution_count": 20,
   "metadata": {},
   "outputs": [],
   "source": [
    "import nltk\n",
    "from nltk import pos_tag\n",
    "from nltk.chunk import ne_chunk\n",
    "from nltk.tree import Tree\n",
    "from sklearn.feature_extraction.text import TfidfVectorizer\n",
    "from sklearn.cluster import KMeans,DBSCAN\n",
    "from sklearn.preprocessing import StandardScaler\n",
    "\n",
    "import pandas as pd"
   ]
  },
  {
   "cell_type": "code",
   "execution_count": 21,
   "metadata": {},
   "outputs": [],
   "source": [
    "# nltk.download()"
   ]
  },
  {
   "cell_type": "code",
   "execution_count": 22,
   "metadata": {},
   "outputs": [
    {
     "data": {
      "text/plain": [
       "frame                                                   8400\n",
       "caption    An image of a man cutting a tomato with a knif...\n",
       "Name: 140, dtype: object"
      ]
     },
     "execution_count": 22,
     "metadata": {},
     "output_type": "execute_result"
    }
   ],
   "source": [
    "df = pd.read_csv(\"data/Aoutput0_cut.csv\")\n",
    "df.iloc[140]"
   ]
  },
  {
   "cell_type": "code",
   "execution_count": 23,
   "metadata": {},
   "outputs": [
    {
     "data": {
      "text/plain": [
       "[('An', 'DT'),\n",
       " ('image', 'NN'),\n",
       " ('of', 'IN'),\n",
       " ('a', 'DT'),\n",
       " ('man', 'NN'),\n",
       " ('cutting', 'VBG'),\n",
       " ('a', 'DT'),\n",
       " ('tomato', 'NN'),\n",
       " ('with', 'IN'),\n",
       " ('a', 'DT'),\n",
       " ('knife', 'NN'),\n",
       " ('on', 'IN'),\n",
       " ('a', 'DT'),\n",
       " ('kitchen', 'NN'),\n",
       " ('counter', 'NN'),\n",
       " ('.', '.')]"
      ]
     },
     "execution_count": 23,
     "metadata": {},
     "output_type": "execute_result"
    }
   ],
   "source": [
    "captions = df[\"caption\"]\n",
    "# tokens = nltk.word_tokenize(captions[0])\n",
    "tokens = [nltk.word_tokenize(caption) for caption in captions]\n",
    "tagged_tokens = [nltk.pos_tag(token) for token in tokens]\n",
    "tagged_tokens[140]"
   ]
  },
  {
   "cell_type": "code",
   "execution_count": 24,
   "metadata": {},
   "outputs": [],
   "source": [
    "df['tagged_tokens'] = tagged_tokens"
   ]
  },
  {
   "cell_type": "code",
   "execution_count": 25,
   "metadata": {},
   "outputs": [],
   "source": [
    "def extract_SVO(tagged_token):\n",
    "    subject = \"\"\n",
    "    verb = \"\"\n",
    "    obj = \"\"\n",
    "\n",
    "    grammar = \"SOV: {<DT>?<JJ>?<N.*><V.*><IN>?<DT>?<JJ>?<N.*>}\"\n",
    "    cp = nltk.RegexpParser(grammar)\n",
    "    tree = cp.parse(tagged_token)\n",
    "    for subtree in tree.subtrees():\n",
    "        if subtree.label() == \"SOV\":\n",
    "            for leaf in subtree.leaves():\n",
    "                if ('NN' in leaf[1] and subject==''):\n",
    "                    subject = leaf[0]\n",
    "                if 'VB' in leaf[1]:\n",
    "                    verb = leaf[0]\n",
    "                if ('NN' in leaf[1]):\n",
    "                    obj = leaf[0]\n",
    "    return subject, verb, obj"
   ]
  },
  {
   "cell_type": "code",
   "execution_count": 26,
   "metadata": {},
   "outputs": [],
   "source": [
    "def extract_NV(tagged_token):\n",
    "    words = []\n",
    "\n",
    "    for tag in tagged_token:\n",
    "        if ('NN' in tag[1]):\n",
    "            words.append(tag[0])\n",
    "        if 'VB' in tag[1]:\n",
    "            words.append(tag[0])\n",
    "    return words[1:]"
   ]
  },
  {
   "cell_type": "code",
   "execution_count": 27,
   "metadata": {},
   "outputs": [
    {
     "data": {
      "text/plain": [
       "frame                                                         8400\n",
       "caption          An image of a man cutting a tomato with a knif...\n",
       "tagged_tokens    [(An, DT), (image, NN), (of, IN), (a, DT), (ma...\n",
       "vos                                              (cutting, tomato)\n",
       "v                                                          cutting\n",
       "o                                                           tomato\n",
       "Name: 140, dtype: object"
      ]
     },
     "execution_count": 27,
     "metadata": {},
     "output_type": "execute_result"
    }
   ],
   "source": [
    "import numpy as np\n",
    "\n",
    "svos = np.array([extract_SVO(tagged_token) for tagged_token in tagged_tokens])\n",
    "df['vos'] = [tuple(vo) for vo in svos[:,1:]]\n",
    "df['v'] = svos[:,1]\n",
    "df['o'] = svos[:,2]\n",
    "df.iloc[140]"
   ]
  },
  {
   "cell_type": "code",
   "execution_count": 28,
   "metadata": {},
   "outputs": [
    {
     "data": {
      "text/plain": [
       "array(['playing', 'standing', 'stealing', '', 'walking', 'using',\n",
       "       'looking', 'wearing', 'fixing', 'kneeling', 'opening', 'breaking',\n",
       "       'sitting', 'pouring', 'holding', 'putting', 'cutting', 'chopping',\n",
       "       'cleaning', 'cooking', 'preparing', 'bowed', 'clasped', 'dancing',\n",
       "       'tossing'], dtype=object)"
      ]
     },
     "execution_count": 28,
     "metadata": {},
     "output_type": "execute_result"
    }
   ],
   "source": [
    "df['v'].unique()"
   ]
  },
  {
   "cell_type": "code",
   "execution_count": 29,
   "metadata": {},
   "outputs": [
    {
     "data": {
      "text/plain": [
       "array(['game', 'kitchen', 'chessboard', '', 'bottle', 'laptop', 'front',\n",
       "       'reality', 'letter', 'document', 'toy', 'printer', 'lab', 'floor',\n",
       "       'microwave', 'room', 'freezer', 'home', 'table', 'desk', 'package',\n",
       "       'bag', 'plastic', 'condom', 'drawer', 'spray', 'pizza', 'tomato',\n",
       "       'onion', 'pepper', 'tomatoes', 'plate', 'knife', 'peppers',\n",
       "       'vegetables', 'strawberries', 'VR', 'lemon', 'wine', 'apple',\n",
       "       'fruit', 'banana', 'meal', 'cucumber', 'screwdriver', 'salad',\n",
       "       'avocado', 'box', 'potato', 'cake', 'watermelon', 'piece', 'bowl',\n",
       "       'food', 'fridge', 'refrigerator', 'dish'], dtype=object)"
      ]
     },
     "execution_count": 29,
     "metadata": {},
     "output_type": "execute_result"
    }
   ],
   "source": [
    "df['o'].unique()"
   ]
  },
  {
   "cell_type": "markdown",
   "metadata": {},
   "source": [
    "## Cluster with VO"
   ]
  },
  {
   "cell_type": "code",
   "execution_count": 30,
   "metadata": {},
   "outputs": [],
   "source": [
    "import torch\n",
    "from transformers import BertTokenizer, BertModel\n",
    "\n",
    "# 初始化tokenizer和model\n",
    "tokenizer = BertTokenizer.from_pretrained('bert-base-uncased')\n",
    "model = BertModel.from_pretrained('bert-base-uncased')\n",
    "\n",
    "def get_bert_embeddings(sentences):\n",
    "    # 批量标记化文本并得到相应的输出\n",
    "    inputs = tokenizer(sentences, return_tensors=\"pt\", truncation=True, padding=True, max_length=512)\n",
    "\n",
    "    with torch.no_grad():\n",
    "        output = model(**inputs)\n",
    "    \n",
    "    # 使用BERT模型的最后一层的均值作为句子的嵌入\n",
    "    embeddings = output.last_hidden_state.mean(dim=1).squeeze().numpy()\n",
    "    return embeddings\n",
    "\n",
    "# 示例\n",
    "# sentences = [\"BERT is a great NLP model.\", \"Transformers library makes it easy.\", \"Text embeddings are useful.\"]\n",
    "embeddings = get_bert_embeddings([\" \".join(vo) for vo in df['vos']])\n",
    "# for i, embed in enumerate(embeddings):\n",
    "#     print(f\"Sentence {i + 1} Embedding Shape:\", embed.shape)"
   ]
  },
  {
   "cell_type": "code",
   "execution_count": 31,
   "metadata": {},
   "outputs": [
    {
     "name": "stderr",
     "output_type": "stream",
     "text": [
      "c:\\Users\\eggle\\anaconda3\\envs\\kosmos\\lib\\site-packages\\sklearn\\cluster\\_kmeans.py:1416: FutureWarning: The default value of `n_init` will change from 10 to 'auto' in 1.4. Set the value of `n_init` explicitly to suppress the warning\n",
      "  super()._check_params_vs_input(X, default_n_init=10)\n",
      "c:\\Users\\eggle\\anaconda3\\envs\\kosmos\\lib\\site-packages\\sklearn\\cluster\\_kmeans.py:1440: UserWarning: KMeans is known to have a memory leak on Windows with MKL, when there are less chunks than available threads. You can avoid it by setting the environment variable OMP_NUM_THREADS=4.\n",
      "  warnings.warn(\n"
     ]
    }
   ],
   "source": [
    "# vectorizer = TfidfVectorizer()\n",
    "# X = vectorizer.fit_transform([\" \".join(svo) for svo in svos])\n",
    "# X = StandardScaler().fit_transform(X.toarray())\n",
    "\n",
    "X = embeddings\n",
    "\n",
    "kmeans = KMeans(n_clusters=6)\n",
    "# dbscan = DBSCAN(eps=0.5, min_samples=5)\n",
    "kmeans.fit(X)\n",
    "# labels = dbscan.fit_predict(X)\n",
    "labels = kmeans.labels_\n",
    "df['label'] = labels"
   ]
  },
  {
   "cell_type": "code",
   "execution_count": 32,
   "metadata": {},
   "outputs": [
    {
     "data": {
      "text/plain": [
       "4403.04931640625"
      ]
     },
     "execution_count": 32,
     "metadata": {},
     "output_type": "execute_result"
    }
   ],
   "source": [
    "intertia = kmeans.inertia_\n",
    "intertia"
   ]
  },
  {
   "cell_type": "code",
   "execution_count": 33,
   "metadata": {},
   "outputs": [],
   "source": [
    "# df.head(50)"
   ]
  },
  {
   "cell_type": "code",
   "execution_count": 34,
   "metadata": {},
   "outputs": [
    {
     "data": {
      "image/png": "[encoded data removed]",
      "text/plain": [
       "<Figure size 2000x100 with 1 Axes>"
      ]
     },
     "metadata": {},
     "output_type": "display_data"
    }
   ],
   "source": [
    "import matplotlib.pyplot as plt\n",
    "import numpy as np\n",
    "\n",
    "# 给定的数字列表\n",
    "segments = df[\"label\"]\n",
    "\n",
    "# 获取列表中的唯一值和它们的颜色映射\n",
    "unique_vals = np.unique(segments)\n",
    "colors = plt.cm.viridis(np.linspace(0, 1, len(unique_vals)))\n",
    "color_map = dict(zip(unique_vals, colors))\n",
    "\n",
    "# 为进度条的每一段选择颜色\n",
    "segment_colors = [color_map[val] for val in segments]\n",
    "\n",
    "# 绘制进度条\n",
    "fig, ax = plt.subplots(figsize=(20, 1))\n",
    "ax.axis('on')  # 关闭坐标轴\n",
    "\n",
    "for i, (seg, color) in enumerate(zip(segments, segment_colors)):\n",
    "    ax.fill_between([i, i+1], 0, 1, color=color)\n",
    "\n",
    "# 设置x轴的限制从0开始\n",
    "ax.set_xlim(0, len(segments))\n",
    "\n",
    "# 调整x轴的刻度标签为其30倍\n",
    "locs = ax.get_xticks()  # 获取当前的x轴刻度位置\n",
    "ax.set_xticks(locs)\n",
    "ax.set_xticklabels([int(loc * 60) for loc in locs])\n",
    "\n",
    "plt.show()"
   ]
  },
  {
   "cell_type": "code",
   "execution_count": 35,
   "metadata": {},
   "outputs": [],
   "source": [
    "from collections import Counter\n",
    "\n",
    "results = []\n",
    "\n",
    "start_frame = df.iloc[0]['frame']\n",
    "current_label = df.iloc[0]['label']\n",
    "current_v_list = [df.iloc[0]['v']]\n",
    "current_o_list = [df.iloc[0]['o']]\n",
    "\n",
    "for i, row in df.iloc[1:].iterrows():\n",
    "    if row['label'] == current_label:\n",
    "        current_v_list.append(row['v'])\n",
    "        current_o_list.append(row['o'])\n",
    "    else:\n",
    "        most_common_v = Counter(current_v_list).most_common(1)[0][0]\n",
    "        most_common_o = Counter(current_o_list).most_common(1)[0][0]\n",
    "        \n",
    "        frame_str = f\"{start_frame}-{df.iloc[i-1]['frame']}\" if start_frame != df.iloc[i-1]['frame'] else f\"{start_frame}\"\n",
    "        results.append({'frame': frame_str, 'V': most_common_v, 'O': most_common_o})\n",
    "\n",
    "        start_frame = row['frame']\n",
    "        current_label = row['label']\n",
    "        current_v_list = [row['v']]\n",
    "        current_o_list = [row['o']]\n",
    "\n",
    "# 添加最后一个时间段\n",
    "most_common_v = Counter(current_v_list).most_common(1)[0][0]\n",
    "most_common_o = Counter(current_o_list).most_common(1)[0][0]\n",
    "frame_str = f\"{start_frame}-{df.iloc[-1]['frame']}\" if start_frame != df.iloc[-1]['frame'] else f\"{start_frame}\"\n",
    "results.append({'frame': frame_str, 'V': most_common_v, 'O': most_common_o})\n",
    "\n",
    "result_df = pd.DataFrame(results)\n",
    "result_df.to_csv(\"output0.csv\", index=False)"
   ]
  },
  {
   "cell_type": "markdown",
   "metadata": {},
   "source": [
    "## Simple Classify with VO"
   ]
  },
  {
   "cell_type": "code",
   "execution_count": 36,
   "metadata": {},
   "outputs": [
    {
     "data": {
      "text/plain": [
       "{'': 0,\n",
       " 'playing': 1,\n",
       " 'standing': 2,\n",
       " 'stealing': 3,\n",
       " 'walking': 4,\n",
       " 'using': 5,\n",
       " 'looking': 6,\n",
       " 'wearing': 7,\n",
       " 'fixing': 8,\n",
       " 'kneeling': 9,\n",
       " 'opening': 10,\n",
       " 'breaking': 11,\n",
       " 'sitting': 12,\n",
       " 'pouring': 13,\n",
       " 'holding': 14,\n",
       " 'putting': 15,\n",
       " 'cutting': 16,\n",
       " 'chopping': 17,\n",
       " 'cleaning': 18,\n",
       " 'cooking': 19,\n",
       " 'preparing': 20,\n",
       " 'bowed': 21,\n",
       " 'clasped': 22,\n",
       " 'dancing': 23,\n",
       " 'tossing': 24}"
      ]
     },
     "execution_count": 36,
     "metadata": {},
     "output_type": "execute_result"
    }
   ],
   "source": [
    "lab = 1\n",
    "vdic = {'':0}\n",
    "\n",
    "for v in df['v'].unique():\n",
    "    if v not in vdic.keys():\n",
    "        vdic[v] = lab\n",
    "        lab+=1\n",
    "\n",
    "vdic"
   ]
  },
  {
   "cell_type": "code",
   "execution_count": 37,
   "metadata": {},
   "outputs": [
    {
     "data": {
      "image/png": "[encoded data removed]",
      "text/plain": [
       "<Figure size 2000x100 with 1 Axes>"
      ]
     },
     "metadata": {},
     "output_type": "display_data"
    }
   ],
   "source": [
    "vlist = [vdic[v] for v in df['v']]\n",
    "\n",
    "# 给定的数字列表\n",
    "segments = vlist\n",
    "\n",
    "# 获取列表中的唯一值和它们的颜色映射\n",
    "unique_vals = np.unique(segments)\n",
    "colors = plt.cm.viridis(np.linspace(0, 1, len(unique_vals)))\n",
    "color_map = dict(zip(unique_vals, colors))\n",
    "\n",
    "# 为进度条的每一段选择颜色\n",
    "segment_colors = [color_map[val] for val in segments]\n",
    "\n",
    "# 绘制进度条\n",
    "fig, ax = plt.subplots(figsize=(20, 1))\n",
    "ax.axis('on')  # 关闭坐标轴\n",
    "\n",
    "for i, (seg, color) in enumerate(zip(segments, segment_colors)):\n",
    "    ax.fill_between([i, i+1], 0, 1, color=color)\n",
    "\n",
    "# 设置x轴的限制从0开始\n",
    "ax.set_xlim(0, len(segments))\n",
    "\n",
    "# 调整x轴的刻度标签为其30倍\n",
    "locs = ax.get_xticks()  # 获取当前的x轴刻度位置\n",
    "ax.set_xticks(locs)\n",
    "ax.set_xticklabels([int(loc * 60) for loc in locs])\n",
    "\n",
    "plt.show()"
   ]
  },
  {
   "cell_type": "code",
   "execution_count": 38,
   "metadata": {},
   "outputs": [],
   "source": [
    "# 初始化存储结果的列表\n",
    "results = []\n",
    "\n",
    "# 初始化当前时间段的开始帧\n",
    "start_frame = df.iloc[0]['frame']\n",
    "\n",
    "# 初始化当前动词和名词\n",
    "current_v = df.iloc[0]['v']\n",
    "current_o = df.iloc[0]['o']\n",
    "\n",
    "# 遍历DataFrame中的每一行\n",
    "for i, row in df.iloc[1:].iterrows():\n",
    "    # 检查动词和名词是否与当前段的动词和名词相同\n",
    "    if row['v'] == current_v and row['o'] == current_o:\n",
    "        # 如果相同，继续合并\n",
    "        continue\n",
    "    else:\n",
    "        # 否则，将当前段保存到结果中并开始新的段\n",
    "        results.append({'frame': f\"{start_frame}-{df.iloc[i-1]['frame']}\" if start_frame != df.iloc[i-1]['frame'] else f\"{start_frame}\",\n",
    "                        'V': current_v, 'O': current_o})\n",
    "        start_frame = row['frame']\n",
    "        current_v = row['v']\n",
    "        current_o = row['o']\n",
    "\n",
    "# 添加最后一个段\n",
    "results.append({'frame': f\"{start_frame}-{df.iloc[-1]['frame']}\" if start_frame != df.iloc[-1]['frame'] else f\"{start_frame}\",\n",
    "                'V': current_v, 'O': current_o})\n",
    "\n",
    "# 将结果转换为DataFrame并保存为CSV\n",
    "result_df = pd.DataFrame(results)\n",
    "result_df.to_csv(\"output1.csv\", index=False)"
   ]
  }
 ],
 "metadata": {
  "kernelspec": {
   "display_name": "Python 3 (ipykernel)",
   "language": "python",
   "name": "python3"
  },
  "language_info": {
   "codemirror_mode": {
    "name": "ipython",
    "version": 3
   },
   "file_extension": ".py",
   "mimetype": "text/x-python",
   "name": "python",
   "nbconvert_exporter": "python",
   "pygments_lexer": "ipython3",
   "version": "3.10.13"
  }
 },
 "nbformat": 4,
 "nbformat_minor": 4
}
