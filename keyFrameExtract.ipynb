{
 "cells": [
  {
   "cell_type": "code",
   "execution_count": 1,
   "metadata": {},
   "outputs": [
    {
     "name": "stdout",
     "output_type": "stream",
     "text": [
      "Running for :  /media/data/qiyang/data/OH0037_2023_05_10_15_17_17/videos/Boutput2_cut.mp4\n"
     ]
    },
    {
     "name": "stderr",
     "output_type": "stream",
     "text": [
      "/home/qiyang/anaconda3/envs/kosmos-2/lib/python3.9/site-packages/sklearn/cluster/_kmeans.py:1416: FutureWarning: The default value of `n_init` will change from 10 to 'auto' in 1.4. Set the value of `n_init` explicitly to suppress the warning\n",
      "  super()._check_params_vs_input(X, default_n_init=10)\n"
     ]
    },
    {
     "name": "stdout",
     "output_type": "stream",
     "text": [
      "Completed processing for :  /media/data/qiyang/data/OH0037_2023_05_10_15_17_17/videos/Boutput2_cut.mp4\n",
      "Running for :  /media/data/qiyang/data/OH0037_2023_05_10_15_17_17/videos/hololens.mp4\n"
     ]
    },
    {
     "name": "stderr",
     "output_type": "stream",
     "text": [
      "/home/qiyang/anaconda3/envs/kosmos-2/lib/python3.9/site-packages/sklearn/cluster/_kmeans.py:1416: FutureWarning: The default value of `n_init` will change from 10 to 'auto' in 1.4. Set the value of `n_init` explicitly to suppress the warning\n",
      "  super()._check_params_vs_input(X, default_n_init=10)\n"
     ]
    },
    {
     "name": "stdout",
     "output_type": "stream",
     "text": [
      "Completed processing for :  /media/data/qiyang/data/OH0037_2023_05_10_15_17_17/videos/hololens.mp4\n",
      "Running for :  /media/data/qiyang/data/OH0037_2023_05_10_15_17_17/videos/Boutput1_cut.mp4\n"
     ]
    },
    {
     "name": "stderr",
     "output_type": "stream",
     "text": [
      "/home/qiyang/anaconda3/envs/kosmos-2/lib/python3.9/site-packages/sklearn/cluster/_kmeans.py:1416: FutureWarning: The default value of `n_init` will change from 10 to 'auto' in 1.4. Set the value of `n_init` explicitly to suppress the warning\n",
      "  super()._check_params_vs_input(X, default_n_init=10)\n"
     ]
    },
    {
     "name": "stdout",
     "output_type": "stream",
     "text": [
      "Completed processing for :  /media/data/qiyang/data/OH0037_2023_05_10_15_17_17/videos/Boutput1_cut.mp4\n",
      "Running for :  /media/data/qiyang/data/OH0037_2023_05_10_15_17_17/videos/Boutput0_cut.mp4\n"
     ]
    },
    {
     "ename": "",
     "evalue": "",
     "output_type": "error",
     "traceback": [
      "\u001b[1;31mCanceled future for execute_request message before replies were done"
     ]
    },
    {
     "ename": "",
     "evalue": "",
     "output_type": "error",
     "traceback": [
      "\u001b[1;31mThe Kernel crashed while executing code in the the current cell or a previous cell. Please review the code in the cell(s) to identify a possible cause of the failure. Click <a href='https://aka.ms/vscodeJupyterKernelCrash'>here</a> for more info. View Jupyter <a href='command:jupyter.viewOutput'>log</a> for further details."
     ]
    }
   ],
   "source": [
    "from Katna.video import Video\n",
    "from Katna.writer import KeyFrameDiskWriter\n",
    "import os\n",
    "import ntpath\n",
    "\n",
    "# For windows, the below if condition is must.\n",
    "if __name__ == \"__main__\":\n",
    "\n",
    "  #instantiate the video class\n",
    "  vd = Video()\n",
    "\n",
    "  #number of key-frame images to be extracted\n",
    "  no_of_frames_to_return = 10\n",
    "\n",
    "  #Input Video directory path\n",
    "  #All .mp4 and .mov files inside this directory will be used for keyframe extraction)\n",
    "#   videos_dir_path = os.path.join(\".\", \"tests\",\"data\")\n",
    "  videos_dir_path = '/media/data/qiyang/data/OH0037_2023_05_10_15_17_17/videos'\n",
    "    \n",
    "\n",
    "  diskwriter = KeyFrameDiskWriter(location=\"/media/data/qiyang/data/OH0037_2023_05_10_15_17_17/keyframes/\")\n",
    "\n",
    "  vd.extract_keyframes_from_videos_dir(\n",
    "       no_of_frames=no_of_frames_to_return, dir_path=videos_dir_path,\n",
    "       writer=diskwriter\n",
    "  )"
   ]
  }
 ],
 "metadata": {
  "kernelspec": {
   "display_name": "Python 3",
   "language": "python",
   "name": "python3"
  },
  "language_info": {
   "codemirror_mode": {
    "name": "ipython",
    "version": 3
   },
   "file_extension": ".py",
   "mimetype": "text/x-python",
   "name": "python",
   "nbconvert_exporter": "python",
   "pygments_lexer": "ipython3",
   "version": "3.9.18"
  },
  "orig_nbformat": 4
 },
 "nbformat": 4,
 "nbformat_minor": 2
}
