{
 "cells": [
  {
   "cell_type": "code",
   "execution_count": 140,
   "metadata": {},
   "outputs": [],
   "source": [
    "from transformers import BertTokenizer, BertModel\n",
    "import torch\n",
    "from sklearn.metrics.pairwise import cosine_similarity\n",
    "import nltk\n",
    "from nltk.stem import WordNetLemmatizer\n",
    "\n",
    "import pandas as pd\n",
    "import numpy as np"
   ]
  },
  {
   "cell_type": "code",
   "execution_count": 141,
   "metadata": {},
   "outputs": [],
   "source": [
    "df0 = pd.read_csv(\"data/Aoutput0_cut.csv\")\n",
    "df1 = pd.read_csv(\"data/Aoutput1_cut.csv\")\n",
    "df2 = pd.read_csv(\"data/Aoutput2_cut.csv\")\n",
    "df3 = pd.read_csv(\"data/Aoutput3_anonymized.csv\")\n",
    "df4 = pd.read_csv(\"data/Boutput0_cut.csv\")\n",
    "df5 = pd.read_csv(\"data/Boutput1_cut.csv\")\n",
    "df6 = pd.read_csv(\"data/Boutput2_cut.csv\")\n",
    "df7 = pd.read_csv(\"data/hololens.csv\")\n",
    "\n",
    "dfs = [df0, df1,df2,df3,df4,df5,df6,df7]"
   ]
  },
  {
   "cell_type": "code",
   "execution_count": 142,
   "metadata": {},
   "outputs": [
    {
     "name": "stdout",
     "output_type": "stream",
     "text": [
      "An image of a man cutting a tomato with a knife on a kitchen counter.\n",
      "An image of a man chopping a tomato in a kitchen\n",
      "An image of a man standing in a kitchen with a knife and a bottle\n",
      "An image of a person cutting tomatoes on a cutting board.\n",
      "An image of a man standing in a kitchen with a washing machine and a microwave\n",
      "An image of a person standing in a kitchen with a microwave and a sink.\n",
      "An image of a person standing in a kitchen with a wooden spoon and a knife on the counter.\n",
      "An image of a person cutting tomatoes on a cutting board.\n"
     ]
    }
   ],
   "source": [
    "for df in dfs:\n",
    "    print(df.iloc[140]['caption'])"
   ]
  },
  {
   "cell_type": "code",
   "execution_count": 143,
   "metadata": {},
   "outputs": [],
   "source": [
    "def extract_SVO(tagged_token):\n",
    "    subject = \"\"\n",
    "    verb = \"\"\n",
    "    obj = \"\"\n",
    "\n",
    "    grammar = \"SOV: {<DT>?<JJ>?<N.*><V.*><IN>?<DT>?<JJ>?<N.*>}\"\n",
    "    cp = nltk.RegexpParser(grammar)\n",
    "    tree = cp.parse(tagged_token)\n",
    "    for subtree in tree.subtrees():\n",
    "        if subtree.label() == \"SOV\":\n",
    "            for leaf in subtree.leaves():\n",
    "                if ('NN' in leaf[1] and subject==''):\n",
    "                    subject = leaf[0]\n",
    "                if 'VB' in leaf[1]:\n",
    "                    verb = leaf[0]\n",
    "                if ('NN' in leaf[1]):\n",
    "                    obj = leaf[0]\n",
    "    return subject, verb, obj"
   ]
  },
  {
   "cell_type": "code",
   "execution_count": 144,
   "metadata": {},
   "outputs": [],
   "source": [
    "dfVO = pd.DataFrame()\n",
    "dfVO['frame'] = df5['frame']\n",
    "\n",
    "dfVO['candiV'] = [[] for _ in range(len(dfVO))]\n",
    "dfVO['candiO'] = [[] for _ in range(len(dfVO))]"
   ]
  },
  {
   "cell_type": "code",
   "execution_count": 145,
   "metadata": {},
   "outputs": [],
   "source": [
    "for df in dfs:\n",
    "    captions = df[\"caption\"]\n",
    "    # tokens = nltk.word_tokenize(captions[0])\n",
    "    tokens = [nltk.word_tokenize(caption) for caption in captions]\n",
    "    tagged_tokens = [nltk.pos_tag(token) for token in tokens]\n",
    "    # print(tagged_tokens[140])\n",
    "\n",
    "    svos = np.array([extract_SVO(tagged_token) for tagged_token in tagged_tokens])\n",
    "    # df['vos'] = [tuple(vo) for vo in svos[:,1:]]\n",
    "    # df['v'] = svos[:,1]\n",
    "    # df['o'] = svos[:,2]\n",
    "    for i, item in enumerate(svos[:,1]):\n",
    "        dfVO.at[i, 'candiV'].append(item)\n",
    "    \n",
    "    for i, item in enumerate(svos[:,2]):\n",
    "        dfVO.at[i, 'candiO'].append(item)"
   ]
  },
  {
   "cell_type": "code",
   "execution_count": 146,
   "metadata": {},
   "outputs": [
    {
     "name": "stdout",
     "output_type": "stream",
     "text": [
      "['cutting', 'chopping', 'standing', 'cutting', 'standing', 'standing', 'standing', 'cutting']\n",
      "['tomato', 'tomato', 'kitchen', 'tomatoes', 'kitchen', 'kitchen', 'kitchen', 'tomatoes']\n"
     ]
    }
   ],
   "source": [
    "print(dfVO.iloc[140]['candiV'])\n",
    "print(dfVO.iloc[140]['candiO'])"
   ]
  },
  {
   "cell_type": "code",
   "execution_count": 147,
   "metadata": {},
   "outputs": [],
   "source": [
    "ActionList = ['Stand','Kitchen','Open','Taste','Close','Tap','Cut','Chop','Break','Add','Wash','Hold','Clean','Move','Switch','Sauté','Stir','Dry',\n",
    "              'Wait','Pick','Put','Read','Split','Press','Touch','Slide','Peel','Shake','Pour','Squat','Throw','Carry']"
   ]
  },
  {
   "cell_type": "code",
   "execution_count": 148,
   "metadata": {},
   "outputs": [],
   "source": [
    "device = torch.device(\"cuda:0\" if torch.cuda.is_available() else \"cpu\")"
   ]
  },
  {
   "cell_type": "code",
   "execution_count": 149,
   "metadata": {},
   "outputs": [
    {
     "name": "stderr",
     "output_type": "stream",
     "text": [
      "'(MaxRetryError(\"HTTPSConnectionPool(host='huggingface.co', port=443): Max retries exceeded with url: /bert-base-uncased/resolve/main/tokenizer_config.json (Caused by ConnectTimeoutError(<urllib3.connection.HTTPSConnection object at 0x0000019DA3B25F30>, 'Connection to huggingface.co timed out. (connect timeout=10)'))\"), '(Request ID: 49751d55-27c5-4270-a965-7e22a4d16c14)')' thrown while requesting HEAD https://huggingface.co/bert-base-uncased/resolve/main/tokenizer_config.json\n"
     ]
    }
   ],
   "source": [
    "# 加载预训练的BERT模型和分词器\n",
    "tokenizer = BertTokenizer.from_pretrained(\"bert-base-uncased\")\n",
    "model = BertModel.from_pretrained(\"bert-base-uncased\") .to(device)\n",
    "lemmatizer = WordNetLemmatizer()\n",
    "\n",
    "def get_bert_embedding(text):\n",
    "    inputs = tokenizer(text, return_tensors=\"pt\", truncation=True, padding=True, max_length=128).to(device)\n",
    "    with torch.no_grad():\n",
    "        outputs = model(**inputs)\n",
    "    return outputs.last_hidden_state.mean(dim=1).cpu().numpy()\n",
    "\n",
    "def bert_similarity(text1, text2):\n",
    "    vec1 = get_bert_embedding(text1)\n",
    "    vec2 = get_bert_embedding(text2)\n",
    "    return cosine_similarity(vec1, vec2)\n",
    "\n",
    "def filter_verbs(candiV, ActionList=ActionList, threshold=0.7):\n",
    "    selected_verb = ''\n",
    "    selected_i = 0\n",
    "    best_similarity = 0\n",
    "\n",
    "    for i,verb_candi in enumerate(candiV):\n",
    "        verb_candi = lemmatizer.lemmatize(verb_candi.lower(),pos='v')\n",
    "        # print(bert_similarity(verb_candi, ActionList).squeeze())\n",
    "        similarity = max(bert_similarity(verb_candi, ActionList).squeeze())\n",
    "        if similarity > best_similarity:\n",
    "            selected_verb = verb_candi # Keep the word most close to ActionList\n",
    "            selected_i = i\n",
    "            \n",
    "                \n",
    "    return selected_i,selected_verb"
   ]
  },
  {
   "cell_type": "code",
   "execution_count": 150,
   "metadata": {},
   "outputs": [],
   "source": [
    "# 示例\n",
    "# i,verb = filter_verbs([\"Dance\",\"Chopping\"])\n",
    "# print(i,verb)"
   ]
  },
  {
   "cell_type": "code",
   "execution_count": 151,
   "metadata": {},
   "outputs": [],
   "source": [
    "indexList = []\n",
    "vlist = []\n",
    "\n",
    "for i in range(len(dfVO)):\n",
    "    index, verb = filter_verbs(dfVO.iloc[i]['candiV'])\n",
    "    indexList.append(index)\n",
    "    vlist.append(verb)"
   ]
  },
  {
   "cell_type": "code",
   "execution_count": 152,
   "metadata": {},
   "outputs": [],
   "source": [
    "# dfVO['O'] = [dfVO['candiO'][i][indexList[i]] for i in range(len(indexList))] \n",
    "dfVO['V'] = vlist\n",
    "dfVO['O'] = dfVO.apply(lambda row: lemmatizer.lemmatize(row['candiO'][indexList[row.name]].lower(),pos='n'), axis=1)"
   ]
  },
  {
   "cell_type": "code",
   "execution_count": 153,
   "metadata": {},
   "outputs": [
    {
     "data": {
      "text/plain": [
       "frame                                                  8400\n",
       "candiV    [cutting, chopping, standing, cutting, standin...\n",
       "candiO    [tomato, tomato, kitchen, tomatoes, kitchen, k...\n",
       "V                                                       cut\n",
       "O                                                    tomato\n",
       "Name: 140, dtype: object"
      ]
     },
     "execution_count": 153,
     "metadata": {},
     "output_type": "execute_result"
    }
   ],
   "source": [
    "dfVO.iloc[140]"
   ]
  },
  {
   "cell_type": "code",
   "execution_count": 154,
   "metadata": {},
   "outputs": [
    {
     "data": {
      "text/plain": [
       "{'': 0,\n",
       " 'move': 1,\n",
       " 'stand': 2,\n",
       " 'use': 3,\n",
       " 'walk': 4,\n",
       " 'open': 5,\n",
       " 'reach': 6,\n",
       " 'hang': 7,\n",
       " 'plug': 8,\n",
       " 'find': 9,\n",
       " 'hold': 10,\n",
       " 'clean': 11,\n",
       " 'connect': 12,\n",
       " 'remove': 13,\n",
       " 'put': 14,\n",
       " 'scatter': 15,\n",
       " 'prepare': 16,\n",
       " 'touch': 17,\n",
       " 'throw': 18,\n",
       " 'cut': 19,\n",
       " 'slice': 20,\n",
       " 'peel': 21,\n",
       " 'chop': 22,\n",
       " 'drop': 23,\n",
       " 'pour': 24,\n",
       " 'eat': 25,\n",
       " 'sit': 26,\n",
       " 'spoon': 27,\n",
       " 'spread': 28,\n",
       " 'add': 29,\n",
       " 'toss': 30,\n",
       " 'pee': 31,\n",
       " 'grate': 32,\n",
       " 'crack': 33,\n",
       " 'whisk': 34,\n",
       " 'mix': 35,\n",
       " 'surround': 36,\n",
       " 'take': 37,\n",
       " 'press': 38,\n",
       " 'cook': 39,\n",
       " 'stir': 40,\n",
       " 'scramble': 41,\n",
       " 'wash': 42,\n",
       " 'fill': 43,\n",
       " 'unscrew': 44,\n",
       " 'run': 45,\n",
       " 'scrub': 46,\n",
       " 'sharpen': 47,\n",
       " 'fly': 48,\n",
       " 'turn': 49}"
      ]
     },
     "execution_count": 154,
     "metadata": {},
     "output_type": "execute_result"
    }
   ],
   "source": [
    "lab = 1\n",
    "vdic = {'':0}\n",
    "\n",
    "for v in dfVO['V'].unique():\n",
    "    if v not in vdic.keys():\n",
    "        vdic[v] = lab\n",
    "        lab+=1\n",
    "\n",
    "vdic"
   ]
  },
  {
   "cell_type": "code",
   "execution_count": 155,
   "metadata": {},
   "outputs": [
    {
     "data": {
      "image/png": "[encoded data removed]",
      "text/plain": [
       "<Figure size 2000x100 with 1 Axes>"
      ]
     },
     "metadata": {},
     "output_type": "display_data"
    }
   ],
   "source": [
    "import matplotlib.pyplot as plt\n",
    "\n",
    "vlist = [vdic[v] for v in dfVO['V']]\n",
    "\n",
    "# 给定的数字列表\n",
    "segments = vlist\n",
    "\n",
    "# 获取列表中的唯一值和它们的颜色映射\n",
    "unique_vals = np.unique(segments)\n",
    "colors = plt.cm.viridis(np.linspace(0, 1, len(unique_vals)))\n",
    "color_map = dict(zip(unique_vals, colors))\n",
    "\n",
    "# 为进度条的每一段选择颜色\n",
    "segment_colors = [color_map[val] for val in segments]\n",
    "\n",
    "# 绘制进度条\n",
    "fig, ax = plt.subplots(figsize=(20, 1))\n",
    "ax.axis('on')  # 关闭坐标轴\n",
    "\n",
    "for i, (seg, color) in enumerate(zip(segments, segment_colors)):\n",
    "    ax.fill_between([i, i+1], 0, 1, color=color)\n",
    "\n",
    "# 设置x轴的限制从0开始\n",
    "ax.set_xlim(0, len(segments))\n",
    "\n",
    "# 调整x轴的刻度标签为其30倍\n",
    "locs = ax.get_xticks()  # 获取当前的x轴刻度位置\n",
    "ax.set_xticks(locs)\n",
    "ax.set_xticklabels([int(loc * 60) for loc in locs])\n",
    "\n",
    "plt.show()"
   ]
  },
  {
   "cell_type": "code",
   "execution_count": 156,
   "metadata": {},
   "outputs": [],
   "source": [
    "# 初始化存储结果的列表\n",
    "results = []\n",
    "\n",
    "# 初始化当前时间段的开始帧\n",
    "start_frame = dfVO.iloc[0]['frame']\n",
    "\n",
    "# 初始化当前动词和名词\n",
    "current_v = dfVO.iloc[0]['V']\n",
    "current_o = dfVO.iloc[0]['O']\n",
    "\n",
    "# 遍历DataFrame中的每一行\n",
    "for i, row in dfVO.iloc[1:].iterrows():\n",
    "    # 检查动词和名词是否与当前段的动词和名词相同\n",
    "    if row['V'] == current_v and row['O'] == current_o or row['V']=='':\n",
    "        # 如果相同，继续合并\n",
    "        continue\n",
    "    else:\n",
    "        # 否则，将当前段保存到结果中并开始新的段\n",
    "        results.append({'frame': f\"{start_frame}-{dfVO.iloc[i-1]['frame']}\" if start_frame != dfVO.iloc[i-1]['frame'] else f\"{start_frame}\",\n",
    "                        'V': current_v, 'O': current_o})\n",
    "        start_frame = row['frame']\n",
    "        current_v = row['V']\n",
    "        current_o = row['O']\n",
    "\n",
    "# 添加最后一个段\n",
    "results.append({'frame': f\"{start_frame}-{dfVO.iloc[-1]['frame']}\" if start_frame != dfVO.iloc[-1]['frame'] else f\"{start_frame}\",\n",
    "                'V': current_v, 'O': current_o})\n",
    "\n",
    "# 将结果转换为DataFrame并保存为CSV\n",
    "result_df = pd.DataFrame(results)\n",
    "result_df.to_csv(\"output2.csv\", index=False)"
   ]
  },
  {
   "cell_type": "code",
   "execution_count": 157,
   "metadata": {},
   "outputs": [],
   "source": [
    "# 上下文语义合并"
   ]
  }
 ],
 "metadata": {
  "kernelspec": {
   "display_name": "kosmos",
   "language": "python",
   "name": "python3"
  },
  "language_info": {
   "codemirror_mode": {
    "name": "ipython",
    "version": 3
   },
   "file_extension": ".py",
   "mimetype": "text/x-python",
   "name": "python",
   "nbconvert_exporter": "python",
   "pygments_lexer": "ipython3",
   "version": "3.10.13"
  }
 },
 "nbformat": 4,
 "nbformat_minor": 2
}
