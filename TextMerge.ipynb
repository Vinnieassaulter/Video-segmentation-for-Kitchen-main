{
 "cells": [
  {
   "cell_type": "code",
   "execution_count": 1,
   "metadata": {},
   "outputs": [
    {
     "name": "stderr",
     "output_type": "stream",
     "text": [
      "c:\\Users\\eggle\\anaconda3\\envs\\kosmos\\lib\\site-packages\\tqdm\\auto.py:21: TqdmWarning: IProgress not found. Please update jupyter and ipywidgets. See https://ipywidgets.readthedocs.io/en/stable/user_install.html\n",
      "  from .autonotebook import tqdm as notebook_tqdm\n"
     ]
    }
   ],
   "source": [
    "from transformers import BertTokenizer, BertModel\n",
    "import torch\n",
    "from sklearn.metrics.pairwise import cosine_similarity"
   ]
  },
  {
   "cell_type": "code",
   "execution_count": 2,
   "metadata": {},
   "outputs": [],
   "source": [
    "# 初始化BERT模型和分词器\n",
    "tokenizer = BertTokenizer.from_pretrained('bert-base-uncased')\n",
    "model = BertModel.from_pretrained('bert-base-uncased')\n",
    "\n",
    "def get_embedding(text):\n",
    "    \"\"\"获取文本的BERT嵌入\"\"\"\n",
    "    inputs = tokenizer(text, return_tensors=\"pt\", truncation=True, padding=True, max_length=128)\n",
    "    with torch.no_grad():\n",
    "        outputs = model(**inputs)\n",
    "    return outputs.last_hidden_state.mean(dim=1).numpy()\n",
    "\n",
    "def merge_descriptions(desc1, desc2):\n",
    "    \"\"\"合并两个描述\"\"\"\n",
    "    embedding1 = get_embedding(desc1)\n",
    "    embedding2 = get_embedding(desc2)\n",
    "\n",
    "    # 计算两个描述的余弦相似度\n",
    "    similarity = cosine_similarity(embedding1, embedding2)[0][0]\n",
    "\n",
    "    # 如果相似度超过阈值，则合并描述\n",
    "    if similarity > 0.8:\n",
    "        # 这里简单地将两个描述连接起来，实际应用中可能需要更复杂的合并策略\n",
    "        return desc1 + \" \" + desc2\n",
    "    else:\n",
    "        return None"
   ]
  },
  {
   "cell_type": "code",
   "execution_count": 4,
   "metadata": {},
   "outputs": [
    {
     "name": "stdout",
     "output_type": "stream",
     "text": [
      "A man is standing near a blue car. A man is standing near a house.\n"
     ]
    }
   ],
   "source": [
    "\n",
    "# 示例\n",
    "desc1 = \"A man is standing near a blue car.\"\n",
    "desc2 = \"A man is standing near a house.\"\n",
    "\n",
    "merged_description = merge_descriptions(desc1, desc2)\n",
    "print(merged_description)\n"
   ]
  },
  {
   "cell_type": "code",
   "execution_count": 8,
   "metadata": {},
   "outputs": [
    {
     "name": "stderr",
     "output_type": "stream",
     "text": [
      "The attention mask and the pad token id were not set. As a consequence, you may observe unexpected behavior. Please pass your input's `attention_mask` to obtain reliable results.\n",
      "Setting `pad_token_id` to `eos_token_id`:50256 for open-end generation.\n"
     ]
    },
    {
     "name": "stdout",
     "output_type": "stream",
     "text": [
      "ing each other.\n",
      "\n",
      "A man and woman are sitting on a bench. The man\n"
     ]
    }
   ],
   "source": [
    "import spacy\n",
    "from transformers import GPT2LMHeadModel, GPT2Tokenizer\n",
    "\n",
    "# 加载Spacy模型\n",
    "nlp = spacy.load(\"en_core_web_sm\")\n",
    "\n",
    "# 初始化GPT-2模型和分词器\n",
    "tokenizer = GPT2Tokenizer.from_pretrained('gpt2-medium')\n",
    "model = GPT2LMHeadModel.from_pretrained('gpt2-medium')\n",
    "\n",
    "def extract_key_info(text):\n",
    "    \"\"\"提取文本中的关键信息\"\"\"\n",
    "    doc = nlp(text)\n",
    "    subjects = [token.text for token in doc if \"subj\" in token.dep_]\n",
    "    objects = [token.text for token in doc if \"obj\" in token.dep_]\n",
    "    return subjects, objects\n",
    "\n",
    "def generate_new_description(desc1, desc2):\n",
    "    subjects1, objects1 = extract_key_info(desc1)\n",
    "    subjects2, objects2 = extract_key_info(desc2)\n",
    "\n",
    "    # 合并关键信息\n",
    "    all_subjects = list(set(subjects1 + subjects2))\n",
    "    all_objects = list(set(objects1 + objects2))\n",
    "\n",
    "    # 使用GPT-2生成新描述\n",
    "    prompt = \"Describe a scene where \" + \" and \".join(all_subjects) + \" are \" + \" and \".join(all_objects)\n",
    "    inputs = tokenizer.encode(prompt, return_tensors=\"pt\", max_length=50, truncation=True)\n",
    "    outputs = model.generate(inputs, max_length=30, temperature=0.7, num_return_sequences=1)\n",
    "    generated = tokenizer.decode(outputs[0], skip_special_tokens=True)\n",
    "    \n",
    "    return generated[len(prompt):].strip()\n",
    "\n",
    "# 示例\n",
    "desc1 = \"A man is standing near a blue car.\"\n",
    "desc2 = \"A woman is sitting on a bench.\"\n",
    "\n",
    "new_description = generate_new_description(desc1, desc2)\n",
    "print(new_description)\n"
   ]
  }
 ],
 "metadata": {
  "kernelspec": {
   "display_name": "kosmos",
   "language": "python",
   "name": "python3"
  },
  "language_info": {
   "codemirror_mode": {
    "name": "ipython",
    "version": 3
   },
   "file_extension": ".py",
   "mimetype": "text/x-python",
   "name": "python",
   "nbconvert_exporter": "python",
   "pygments_lexer": "ipython3",
   "version": "3.10.13"
  }
 },
 "nbformat": 4,
 "nbformat_minor": 2
}
