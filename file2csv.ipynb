{
 "cells": [
  {
   "cell_type": "code",
   "execution_count": 14,
   "metadata": {},
   "outputs": [],
   "source": [
    "import os\n",
    "import csv\n",
    "import re"
   ]
  },
  {
   "cell_type": "code",
   "execution_count": 15,
   "metadata": {},
   "outputs": [],
   "source": [
    "captions_dir_path = \"/media/data/qiyang/data/OH0037_2023_05_10_15_17_17/captions/\"\n",
    "dirs = os.listdir(captions_dir_path)\n",
    "\n",
    "for dir in dirs:\n",
    "    # print(dir)\n",
    "\n",
    "    imgs = os.listdir(os.path.join(captions_dir_path,dir))\n",
    "\n",
    "    with open(os.path.join(\"data\",dir),\"w\") as csvfile:\n",
    "        writer = csv.writer(csvfile)\n",
    "        writer.writerow([\"frame\",\"caption\"])\n",
    "        \n",
    "        for img in imgs:\n",
    "            # print(img)\n",
    "            file_str = os.path.splitext(img)[0]\n",
    "            file_str = os.path.splitext(file_str)[0]\n",
    "            # print(file_str)\n",
    "            frame_id = file_str.split('_')[-1]\n",
    "            # print(frame_id)\n",
    "\n",
    "            with open(os.path.join(captions_dir_path,dir,img),'r') as f:\n",
    "                txt = f.read().splitlines()[0]\n",
    "                # print(frame_id,txt)\n",
    "            \n",
    "            writer.writerow([frame_id,txt])\n"
   ]
  },
  {
   "cell_type": "code",
   "execution_count": 16,
   "metadata": {},
   "outputs": [
    {
     "name": "stdout",
     "output_type": "stream",
     "text": [
      "Index(['frame', 'caption'], dtype='object')\n",
      "Index(['frame', 'caption'], dtype='object')\n",
      "Index(['frame', 'caption'], dtype='object')\n",
      "Index(['frame', 'caption'], dtype='object')\n",
      "Index(['frame', 'caption'], dtype='object')\n",
      "Index(['frame', 'caption'], dtype='object')\n",
      "Index(['frame', 'caption'], dtype='object')\n",
      "Index(['frame', 'caption'], dtype='object')\n"
     ]
    }
   ],
   "source": [
    "import pandas as pd\n",
    "\n",
    "csvs = os.listdir(\"data\")\n",
    "\n",
    "for csvfile in csvs:\n",
    "    df = pd.read_csv(os.path.join(\"data\",csvfile))\n",
    "    # print(df.columns)\n",
    "    data = df.sort_values(axis=0, by='frame', ascending=True)\n",
    "    data.to_csv(os.path.join(\"data\",csvfile)+\".csv\",mode='a+', index=False)"
   ]
  }
 ],
 "metadata": {
  "kernelspec": {
   "display_name": "kosmos-2",
   "language": "python",
   "name": "python3"
  },
  "language_info": {
   "codemirror_mode": {
    "name": "ipython",
    "version": 3
   },
   "file_extension": ".py",
   "mimetype": "text/x-python",
   "name": "python",
   "nbconvert_exporter": "python",
   "pygments_lexer": "ipython3",
   "version": "3.9.18"
  },
  "orig_nbformat": 4
 },
 "nbformat": 4,
 "nbformat_minor": 2
}
