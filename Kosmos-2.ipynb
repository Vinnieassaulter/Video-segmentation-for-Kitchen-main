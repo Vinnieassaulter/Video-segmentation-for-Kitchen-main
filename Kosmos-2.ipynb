{
 "cells": [
  {
   "cell_type": "code",
   "execution_count": 1,
   "metadata": {},
   "outputs": [],
   "source": [
    "import requests\n",
    "\n",
    "from PIL import Image\n",
    "from transformers import AutoProcessor, AutoModelForVision2Seq\n",
    "\n",
    "import torch"
   ]
  },
  {
   "cell_type": "code",
   "execution_count": 2,
   "metadata": {},
   "outputs": [],
   "source": [
    "\n",
    "model = AutoModelForVision2Seq.from_pretrained(\"ydshieh/kosmos-2-patch14-224\", trust_remote_code=True)\n",
    "device = torch.device(\"cuda:0\" if torch.cuda.is_available() else \"cpu\")\n",
    "model.to(device)\n",
    "processor = AutoProcessor.from_pretrained(\"ydshieh/kosmos-2-patch14-224\", trust_remote_code=True)\n",
    "\n",
    "prompt = \"<grounding>An image of\""
   ]
  },
  {
   "cell_type": "code",
   "execution_count": 3,
   "metadata": {},
   "outputs": [],
   "source": [
    "\n",
    "# url = \"https://huggingface.co/ydshieh/kosmos-2-patch14-224/resolve/main/snowman.png\"\n",
    "# image = Image.open(requests.get(url, stream=True).raw)"
   ]
  },
  {
   "cell_type": "code",
   "execution_count": 4,
   "metadata": {},
   "outputs": [],
   "source": [
    "import os\n",
    "frames_dir_path = \"/media/data/qiyang/data/OH0037_2023_05_10_15_17_17/frames/\"\n",
    "dirs = os.listdir(frames_dir_path)"
   ]
  },
  {
   "cell_type": "code",
   "execution_count": 5,
   "metadata": {},
   "outputs": [],
   "source": [
    "captions_dir_path = \"/media/data/qiyang/data/OH0037_2023_05_10_15_17_17/captions/\"\n",
    "\n",
    "for dir in dirs:\n",
    "    # print(dir)\n",
    "    \n",
    "    if os.path.exists(os.path.join(captions_dir_path,dir)):\n",
    "        os.remove(os.path.join(captions_dir_path,dir))\n",
    "    else:\n",
    "        os.makedirs(os.path.join(captions_dir_path,dir))\n",
    "\n",
    "    imgs = os.listdir(os.path.join(frames_dir_path,dir))\n",
    "    \n",
    "    for img in imgs:\n",
    "        # print(os.path.join(frames_dir_path,path))\n",
    "        image = Image.open(os.path.join(frames_dir_path,dir,img))\n",
    "\n",
    "        caption = open(os.path.join(captions_dir_path,dir,img)+'.txt','w')\n",
    "\n",
    "        # The original Kosmos-2 demo saves the image first then reload it. For some images, this will give slightly different image input and change the generation outputs.\n",
    "        # Uncomment the following 2 lines if you want to match the original demo's outputs.\n",
    "        # (One example is the `two_dogs.jpg` from the demo)\n",
    "        # image.save(\"new_image.jpg\")\n",
    "        # image = Image.open(\"new_image.jpg\")\n",
    "\n",
    "        inputs = processor(text=prompt, images=image, return_tensors=\"pt\").to(device)\n",
    "\n",
    "        generated_ids = model.generate(\n",
    "            pixel_values=inputs[\"pixel_values\"],\n",
    "            input_ids=inputs[\"input_ids\"][:, :-1],\n",
    "            attention_mask=inputs[\"attention_mask\"][:, :-1],\n",
    "            img_features=None,\n",
    "            img_attn_mask=inputs[\"img_attn_mask\"][:, :-1],\n",
    "            use_cache=True,\n",
    "            max_new_tokens=64,\n",
    "        )\n",
    "        generated_text = processor.batch_decode(generated_ids, skip_special_tokens=True)[0]\n",
    "\n",
    "        # Specify `cleanup_and_extract=False` in order to see the raw model generation.\n",
    "        # processed_text = processor.post_process_generation(generated_text, cleanup_and_extract=False)\n",
    "\n",
    "        # print(processed_text)\n",
    "        # `<grounding> An image of<phrase> a snowman</phrase><object><patch_index_0044><patch_index_0863></object> warming himself by<phrase> a fire</phrase><object><patch_index_0005><patch_index_0911></object>.`\n",
    "\n",
    "        # By default, the generated  text is cleanup and the entities are extracted.\n",
    "        processed_text, entities = processor.post_process_generation(generated_text)\n",
    "\n",
    "        # print(processed_text)\n",
    "        # `An image of a snowman warming himself by a fire.`\n",
    "        caption.write(processed_text)\n",
    "        caption.write('\\n')\n",
    "        caption.close()\n",
    "\n",
    "        # print(entities)\n",
    "        # `[('a snowman', (12, 21), [(0.390625, 0.046875, 0.984375, 0.828125)]), ('a fire', (41, 47), [(0.171875, 0.015625, 0.484375, 0.890625)])]`\n"
   ]
  }
 ],
 "metadata": {
  "kernelspec": {
   "display_name": "dl-mps",
   "language": "python",
   "name": "python3"
  },
  "language_info": {
   "codemirror_mode": {
    "name": "ipython",
    "version": 3
   },
   "file_extension": ".py",
   "mimetype": "text/x-python",
   "name": "python",
   "nbconvert_exporter": "python",
   "pygments_lexer": "ipython3",
   "version": "3.9.18"
  },
  "orig_nbformat": 4
 },
 "nbformat": 4,
 "nbformat_minor": 2
}
