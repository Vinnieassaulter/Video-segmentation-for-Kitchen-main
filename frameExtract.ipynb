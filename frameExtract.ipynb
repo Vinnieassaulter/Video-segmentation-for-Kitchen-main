{
 "cells": [
  {
   "cell_type": "code",
   "execution_count": 1,
   "metadata": {},
   "outputs": [],
   "source": [
    "import cv2\n",
    "import os"
   ]
  },
  {
   "cell_type": "code",
   "execution_count": 2,
   "metadata": {},
   "outputs": [],
   "source": [
    "def extract_frames_from_videos(video_folder, output_folder):\n",
    "    # 获取文件夹中所有的.mp4文件\n",
    "    video_files = [f for f in os.listdir(video_folder) if f.endswith('.mp4')]\n",
    "\n",
    "    for video_file in video_files:\n",
    "        video_path = os.path.join(video_folder, video_file)\n",
    "        cap = cv2.VideoCapture(video_path)\n",
    "        fps = int(cap.get(cv2.CAP_PROP_FPS))  # 获取视频的帧率\n",
    "\n",
    "        # 创建输出文件夹\n",
    "        video_output_folder = os.path.join(output_folder, video_file.split('.')[0])\n",
    "        if not os.path.exists(video_output_folder):\n",
    "            os.makedirs(video_output_folder)\n",
    "\n",
    "        frame_count = 0\n",
    "        while True:\n",
    "            ret, frame = cap.read()\n",
    "            if not ret:\n",
    "                break\n",
    "\n",
    "            if frame_count % (2 * fps) == 0:  # 每隔2秒保存一帧\n",
    "                frame_file = os.path.join(video_output_folder, f\"frame_{frame_count}.jpg\")\n",
    "                cv2.imwrite(frame_file, frame)\n",
    "\n",
    "            frame_count += 1\n",
    "\n",
    "        cap.release()"
   ]
  },
  {
   "cell_type": "code",
   "execution_count": 3,
   "metadata": {},
   "outputs": [
    {
     "ename": "FileNotFoundError",
     "evalue": "[Errno 2] No such file or directory: 'path/to/video/folder'",
     "output_type": "error",
     "traceback": [
      "\u001b[0;31m---------------------------------------------------------------------------\u001b[0m",
      "\u001b[0;31mFileNotFoundError\u001b[0m                         Traceback (most recent call last)",
      "Cell \u001b[0;32mIn[3], line 5\u001b[0m\n\u001b[1;32m      2\u001b[0m video_folder \u001b[39m=\u001b[39m \u001b[39m\"\u001b[39m\u001b[39mpath/to/video/folder\u001b[39m\u001b[39m\"\u001b[39m  \u001b[39m# 替换为你的视频文件夹路径\u001b[39;00m\n\u001b[1;32m      3\u001b[0m output_folder \u001b[39m=\u001b[39m \u001b[39m\"\u001b[39m\u001b[39mpath/to/output/folder\u001b[39m\u001b[39m\"\u001b[39m  \u001b[39m# 替换为你想保存帧的文件夹路径\u001b[39;00m\n\u001b[0;32m----> 5\u001b[0m extract_frames_from_videos(video_folder, output_folder)\n",
      "Cell \u001b[0;32mIn[2], line 3\u001b[0m, in \u001b[0;36mextract_frames_from_videos\u001b[0;34m(video_folder, output_folder)\u001b[0m\n\u001b[1;32m      1\u001b[0m \u001b[39mdef\u001b[39;00m \u001b[39mextract_frames_from_videos\u001b[39m(video_folder, output_folder):\n\u001b[1;32m      2\u001b[0m     \u001b[39m# 获取文件夹中所有的.mp4文件\u001b[39;00m\n\u001b[0;32m----> 3\u001b[0m     video_files \u001b[39m=\u001b[39m [f \u001b[39mfor\u001b[39;00m f \u001b[39min\u001b[39;00m os\u001b[39m.\u001b[39;49mlistdir(video_folder) \u001b[39mif\u001b[39;00m f\u001b[39m.\u001b[39mendswith(\u001b[39m'\u001b[39m\u001b[39m.mp4\u001b[39m\u001b[39m'\u001b[39m)]\n\u001b[1;32m      5\u001b[0m     \u001b[39mfor\u001b[39;00m video_file \u001b[39min\u001b[39;00m video_files:\n\u001b[1;32m      6\u001b[0m         video_path \u001b[39m=\u001b[39m os\u001b[39m.\u001b[39mpath\u001b[39m.\u001b[39mjoin(video_folder, video_file)\n",
      "\u001b[0;31mFileNotFoundError\u001b[0m: [Errno 2] No such file or directory: 'path/to/video/folder'"
     ]
    }
   ],
   "source": [
    "if __name__ == \"__main__\":\n",
    "    video_folder = \"path/to/video/folder\"  # 替换为你的视频文件夹路径\n",
    "    output_folder = \"path/to/output/folder\"  # 替换为你想保存帧的文件夹路径\n",
    "\n",
    "    extract_frames_from_videos(video_folder, output_folder)"
   ]
  }
 ],
 "metadata": {
  "kernelspec": {
   "display_name": "dl-mps",
   "language": "python",
   "name": "python3"
  },
  "language_info": {
   "codemirror_mode": {
    "name": "ipython",
    "version": 3
   },
   "file_extension": ".py",
   "mimetype": "text/x-python",
   "name": "python",
   "nbconvert_exporter": "python",
   "pygments_lexer": "ipython3",
   "version": "3.9.16"
  },
  "orig_nbformat": 4
 },
 "nbformat": 4,
 "nbformat_minor": 2
}
