{
 "cells": [
  {
   "cell_type": "code",
   "execution_count": 2,
   "metadata": {},
   "outputs": [],
   "source": [
    "import cv2\n",
    "import os"
   ]
  },
  {
   "cell_type": "code",
   "execution_count": 3,
   "metadata": {},
   "outputs": [],
   "source": [
    "def extract_frames_from_videos(video_folder, output_folder):\n",
    "    # 获取文件夹中所有的.mp4文件\n",
    "    video_files = [f for f in os.listdir(video_folder) if f.endswith('.mp4')]\n",
    "\n",
    "    for video_file in video_files:\n",
    "        video_path = os.path.join(video_folder, video_file)\n",
    "        cap = cv2.VideoCapture(video_path)\n",
    "        fps = int(cap.get(cv2.CAP_PROP_FPS))  # 获取视频的帧率\n",
    "\n",
    "        # 创建输出文件夹\n",
    "        video_output_folder = os.path.join(output_folder, video_file.split('.')[0])\n",
    "        if not os.path.exists(video_output_folder):\n",
    "            os.makedirs(video_output_folder)\n",
    "\n",
    "        frame_count = 0\n",
    "        while True:\n",
    "            ret, frame = cap.read()\n",
    "            if not ret:\n",
    "                break\n",
    "\n",
    "            if frame_count % (2 * fps) == 0:  # 每隔2秒保存一帧\n",
    "                frame_file = os.path.join(video_output_folder, f\"frame_{frame_count}.jpg\")\n",
    "                cv2.imwrite(frame_file, frame)\n",
    "\n",
    "            frame_count += 1\n",
    "\n",
    "        cap.release()"
   ]
  },
  {
   "cell_type": "code",
   "execution_count": 4,
   "metadata": {},
   "outputs": [],
   "source": [
    "if __name__ == \"__main__\":\n",
    "    video_folder = \"/media/data/qiyang/data/OH0037_2023_05_10_15_17_17/videos\"  # 替换为你的视频文件夹路径\n",
    "    output_folder = \"/media/data/qiyang/data/OH0037_2023_05_10_15_17_17/frames\"  # 替换为你想保存帧的文件夹路径\n",
    "\n",
    "    extract_frames_from_videos(video_folder, output_folder)"
   ]
  }
 ],
 "metadata": {
  "kernelspec": {
   "display_name": "dl-mps",
   "language": "python",
   "name": "python3"
  },
  "language_info": {
   "codemirror_mode": {
    "name": "ipython",
    "version": 3
   },
   "file_extension": ".py",
   "mimetype": "text/x-python",
   "name": "python",
   "nbconvert_exporter": "python",
   "pygments_lexer": "ipython3",
   "version": "3.8.18"
  },
  "orig_nbformat": 4
 },
 "nbformat": 4,
 "nbformat_minor": 2
}
